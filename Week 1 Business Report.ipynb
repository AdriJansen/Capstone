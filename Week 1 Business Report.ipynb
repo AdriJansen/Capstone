{
    "cells": [
        {
            "cell_type": "markdown",
            "metadata": {
                "collapsed": true
            },
            "source": "# Car Accident Severity | Business Proposal | Introduction\n"
        },
        {
            "cell_type": "markdown",
            "metadata": {},
            "source": "# Introduction:\nThe purpose of this Project is to predict the severity of car accidents.\n\nProblem Which Tried to Solve:\nDevelopment of an algorithim to predict the severity of an accident given the current weather, road and visibility conditions. This model will alert drivers in bad weather etc to be more careful on the road.\n\nData:\nThis project would use data as given named Data-Collisions as its prime data and our predictor or target variable will be 'SEVERITYCODE' because it is used to measure the severity of an accident from 0 to 5 within the dataset. Attributes used to weigh the severity of an accident are 'WEATHER', 'ROADCOND' and 'LIGHTCOND'.\n\n\n# Methodology:\nData will be cleaned (redundant columns removed) and then balanced.\n\nWe will use the following models:\n\nK-Nearest Neighbor (KNN)\nKNN will help us predict the severity code of an outcome by finding the most similar to data point within k distance.\n\nDecision Tree\nA decision tree model gives us a layout of all possible outcomes so we can fully analyze the concequences of a decision. It context, the decision tree observes all possible outcomes of different weather conditions.\n\nLogistic Regression\nBecause our dataset only provides us with two severity code outcomes, our model will only predict one of those two classes. This makes our data binary, which is perfect to use with logistic regression.\n\n# Libraries Which are Used to Develope the Project:\nPandas: For creating and manipulating dataframes.\n\nScikit Learn: For importing k-means clustering.\n\nMatplotlib: Python Plotting Module."
        },
        {
            "cell_type": "code",
            "execution_count": null,
            "metadata": {},
            "outputs": [],
            "source": ""
        }
    ],
    "metadata": {
        "kernelspec": {
            "display_name": "Python 3.6",
            "language": "python",
            "name": "python3"
        },
        "language_info": {
            "codemirror_mode": {
                "name": "ipython",
                "version": 3
            },
            "file_extension": ".py",
            "mimetype": "text/x-python",
            "name": "python",
            "nbconvert_exporter": "python",
            "pygments_lexer": "ipython3",
            "version": "3.6.9"
        }
    },
    "nbformat": 4,
    "nbformat_minor": 1
}